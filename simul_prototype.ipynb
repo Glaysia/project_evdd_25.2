{
 "cells": [
  {
   "cell_type": "code",
   "execution_count": null,
   "id": "4f0e8267",
   "metadata": {},
   "outputs": [],
   "source": [
    "from project_manager import ProjectSpec"
   ]
  }
 ],
 "metadata": {
  "kernelspec": {
   "display_name": ".v3.12_pyaedt_regression",
   "language": "python",
   "name": "python3"
  },
  "language_info": {
   "name": "python",
   "version": "3.12.11"
  }
 },
 "nbformat": 4,
 "nbformat_minor": 5
}
